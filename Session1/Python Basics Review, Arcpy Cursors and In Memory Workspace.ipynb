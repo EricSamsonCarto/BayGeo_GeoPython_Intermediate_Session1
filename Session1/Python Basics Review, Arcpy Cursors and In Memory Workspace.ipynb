{
 "cells": [
  {
   "cell_type": "markdown",
   "metadata": {},
   "source": [
    "# Python Basics Review\n",
    "\n",
    "**Syntax**\n",
    "\n",
    "<br>Python reads code line by line and uses key words, characters and indenting to store data and execute functions.\n",
    "<br>Import the Python libraries used in a script at the top.  Then define global variables and functions.\n",
    "<br>Use comments to document what each section of code is doing."
   ]
  },
  {
   "cell_type": "markdown",
   "metadata": {},
   "source": [
    "# Data Types \n",
    "\n",
    "**Numbers** - Integer, floating point, complex numbers\n",
    "\n",
    "**Boolean** - True or False\n",
    "\n",
    "**Strings** - text\n",
    "\n",
    "**Lists** - container for data/objects\n",
    "\n",
    "**Tuples** - container for data/objects\n",
    "\n",
    "**Dictionaries** - container for data/objects, like a row in a spreadsheet\n",
    "\n",
    "**Sets** - container for data/objects. Each element in a set is unique, no duplicates\n",
    "\n",
    "**Arcpy Feature Layer** - A temporary version of a shapefile, feature class or table that allows for spatial and attribute selections.  Any edits to the Feature Layer will be reflected in the source shapefile, feature class or table.\n",
    "\n",
    "![title](images/DataTypes.jpg)\n"
   ]
  },
  {
   "cell_type": "markdown",
   "metadata": {},
   "source": [
    "#### Reference Guide for Data Types:\n",
    "https://www.geeksforgeeks.org/python-data-types/"
   ]
  },
  {
   "cell_type": "markdown",
   "metadata": {},
   "source": [
    "# Programming Concepts\n",
    "\n",
    "* Creating variables!\n",
    "* Comparison Operators!\n",
    "* Looping!\n",
    "* Conditional Statements!\n",
    "* Python built in functions!\n",
    "* Defining custom functions!\n",
    "\n",
    "Reference Guide for Built in Functions:\n",
    "https://www.geeksforgeeks.org/python-built-in-functions/\n",
    "\n",
    "Reference guide for Builtin in String Methods:\n",
    "https://www.w3schools.com/python/python_ref_string.asp\n",
    "\n",
    "**Bonus - List Comprehension**\n",
    "\n",
    "List comprehensions are incredibly useful for creating and modifying lists.  It can save you all sorts of space in your code by reducing the number of lines needed to create a new list or filter an existing list.  There are also dict comprehensions!\n",
    "\n",
    "https://www.w3schools.com/python/python_lists_comprehension.asp"
   ]
  },
  {
   "cell_type": "markdown",
   "metadata": {},
   "source": [
    "# Process Automation with arcpy\n",
    "Let's look at an example of a typical workflow in which you may want to use python.  Here we have a series of zipped shapefiles. We would like all of the point layers to contain neighborhood name information. To accomplish this, we'll have to:\n",
    "\n",
    "- extract each zipped shapefile\n",
    "- Get a list of all the shapefiles\n",
    "- Isolate the point shapefiles\n",
    "- Run a spatial join between the SF Neighborhoods shapefile and the points layers"
   ]
  },
  {
   "cell_type": "code",
   "execution_count": null,
   "metadata": {},
   "outputs": [],
   "source": [
    "import os\n",
    "import arcpy\n",
    "import zipfile"
   ]
  },
  {
   "cell_type": "code",
   "execution_count": null,
   "metadata": {},
   "outputs": [],
   "source": [
    "#remember \".\" stands for the current working directory\n",
    "\n",
    "# Set an output location for the data\n",
    "example_folder = r\".\\Example_Data\"\n",
    "if not os.path.exists(example_folder):\n",
    "    os.mkdir(example_folder)"
   ]
  },
  {
   "cell_type": "code",
   "execution_count": null,
   "metadata": {},
   "outputs": [],
   "source": [
    "# create a folder for extracted shapefiles\n",
    "extracted_folder = r\".\\Example_Data\\Extracted_SHP\"\n",
    "if not os.path.exists(extracted_folder):\n",
    "    os.mkdir(extracted_folder)"
   ]
  },
  {
   "cell_type": "code",
   "execution_count": null,
   "metadata": {},
   "outputs": [],
   "source": [
    "# Unzip all the zipped shapefiles\n",
    "zips = [f for f in os.listdir('.') if f.endswith('.zip')]\n",
    "for zf in zips:\n",
    "    zfile = zipfile.ZipFile(zf)\n",
    "    zfile.extractall(extracted_folder)"
   ]
  },
  {
   "cell_type": "code",
   "execution_count": null,
   "metadata": {},
   "outputs": [],
   "source": [
    "#Set location for output of geoprocessing tools\n",
    "output_folder = r\".\\Example_Data\\Output_Folder\"\n",
    "if not os.path.exists(output_folder):\n",
    "    os.mkdir(output_folder)"
   ]
  },
  {
   "cell_type": "code",
   "execution_count": null,
   "metadata": {},
   "outputs": [],
   "source": [
    "# iterate through shapefiles and create clipped shapefiles\n",
    "arcpy.env.workspace = extracted_folder\n",
    "shp_list = arcpy.ListFeatureClasses()\n",
    "print(shp_list)"
   ]
  },
  {
   "cell_type": "markdown",
   "metadata": {},
   "source": [
    "https://pro.arcgis.com/en/pro-app/2.8/arcpy/functions/listfeatureclasses.htm"
   ]
  },
  {
   "cell_type": "code",
   "execution_count": null,
   "metadata": {},
   "outputs": [],
   "source": [
    "shp_list = arcpy.ListFeatureClasses(feature_type = \"Point\")\n",
    "print(shp_list)"
   ]
  },
  {
   "cell_type": "code",
   "execution_count": null,
   "metadata": {
    "scrolled": true
   },
   "outputs": [],
   "source": [
    "for shp in shp_list:\n",
    "    print('Updating', shp)\n",
    "    output_shp = os.path.join(output_folder, shp[:-4] + '_spjoin.shp')\n",
    "    #arcpy.analysis.SpatialJoin(target_features, join_features, out_feature_class)\n",
    "    arcpy.analysis.SpatialJoin(shp, 'SF_Neighborhoods.shp', output_shp, match_option=\"COMPLETELY WITHIN\")"
   ]
  },
  {
   "cell_type": "markdown",
   "metadata": {},
   "source": [
    "https://pro.arcgis.com/en/pro-app/2.8/tool-reference/analysis/spatial-join.htm"
   ]
  },
  {
   "cell_type": "code",
   "execution_count": null,
   "metadata": {},
   "outputs": [],
   "source": [
    "arcpy.env.overwriteOutput = True"
   ]
  },
  {
   "cell_type": "markdown",
   "metadata": {},
   "source": [
    "** BONUS **\n",
    "#### Putting the above cells all together to review our script\n",
    "#### Suggestions for improvements on the script?"
   ]
  },
  {
   "cell_type": "code",
   "execution_count": null,
   "metadata": {},
   "outputs": [],
   "source": [
    "import os\n",
    "import arcpy\n",
    "import zipfile\n",
    "\n",
    "# Set an output location for the data\n",
    "example_folder = r\".\\Example_Data\"\n",
    "if not os.path.exists(example_folder):\n",
    "    os.mkdir(example_folder)\n",
    "\n",
    "# create a folder for extracted shapefiles\n",
    "extracted_folder = r\".\\Example_Data\\Extracted_SHP\"\n",
    "if not os.path.exists(extracted_folder):\n",
    "    os.mkdir(extracted_folder)\n",
    "\n",
    "# Unzip all the zipped shapefiles\n",
    "zips = [f for f in os.listdir('.') if f.endswith('.zip')]\n",
    "for zf in zips:\n",
    "    zfile = zipfile.ZipFile(zf)\n",
    "    zfile.extractall(extracted_folder)\n",
    "\n",
    "#Set location for output of geoprocessing tools\n",
    "output_folder = r\".\\Example_Data\\Output_Folder\"\n",
    "if not os.path.exists(output_folder):\n",
    "    os.mkdir(output_folder)\n",
    "\n",
    "# iterate through shapefiles and create clipped shapefiles\n",
    "arcpy.env.workspace = extracted_folder\n",
    "shp_list = arcpy.ListFeatureClasses(feature_type = \"Point\")\n",
    "\n",
    "for shp in shp_list:\n",
    "    print('Updating', shp)\n",
    "    output_shp = os.path.join(output_folder, f'{shp[:-4]}_spjoin.shp')\n",
    "    arcpy.analysis.SpatialJoin(shp, 'SF_Neighborhoods.shp', output_shp, match_option=\"COMPLETELY WITHIN\")"
   ]
  },
  {
   "cell_type": "markdown",
   "metadata": {},
   "source": [
    "# Cursors\n",
    "\n",
    "Arcpy has 3 types of Cursors, Search, Update and Insert.  These can be used to iterate through the table of a shapefile/feature class/feature table and access the values of each row in the table.\n",
    "\n",
    "Cursors require two things:\n",
    "an input shapefile/feature class/feature table\n",
    "<br>A list of columns\n",
    "\n",
    "This returns an iterator object that can be looped through like a list.\n",
    "\n",
    "- [arcpy.da.SearchCursor()](https://pro.arcgis.com/en/pro-app/arcpy/data-access/searchcursor-class.htm)\n",
    "- [arcpy.da.InsertCursor()](https://pro.arcgis.com/en/pro-app/arcpy/data-access/insertcursor-class.htm)\n",
    "- [arcpy.da.UpdateCursor()](https://pro.arcgis.com/en/pro-app/arcpy/data-access/updatecursor-class.htm)"
   ]
  },
  {
   "cell_type": "code",
   "execution_count": null,
   "metadata": {},
   "outputs": [],
   "source": [
    "extracted_folder = r'C:\\Users\\eric.samson\\Documents\\Python\\BayGeo_IntermediateClass\\Spring2022_BayGeo_IntermediatePython_Workshop1\\Example_Data\\Extracted_SHP'"
   ]
  },
  {
   "cell_type": "code",
   "execution_count": null,
   "metadata": {},
   "outputs": [],
   "source": [
    "extracted_folder = r'.\\Example_Data\\Extracted_SHP'"
   ]
  },
  {
   "cell_type": "code",
   "execution_count": null,
   "metadata": {},
   "outputs": [],
   "source": [
    "#Example of creating a Search Cursor, note that da.SearchCursor is the newest version of this\n",
    "\n",
    "shp = os.path.join(extracted_folder, \"SF_Streets.shp\")\n",
    "flds = ['streetname', 'active', 'classcode', 'SHAPE@LENGTH']\n",
    "\n",
    "cursor = arcpy.da.SearchCursor(shp, flds)"
   ]
  },
  {
   "cell_type": "code",
   "execution_count": null,
   "metadata": {
    "scrolled": true
   },
   "outputs": [],
   "source": [
    "cursor"
   ]
  },
  {
   "cell_type": "code",
   "execution_count": null,
   "metadata": {},
   "outputs": [],
   "source": [
    "for row in cursor:\n",
    "    print(type(row), row)"
   ]
  },
  {
   "cell_type": "code",
   "execution_count": null,
   "metadata": {},
   "outputs": [],
   "source": [
    "type(cursor)"
   ]
  },
  {
   "cell_type": "code",
   "execution_count": null,
   "metadata": {},
   "outputs": [],
   "source": [
    "row[3]"
   ]
  },
  {
   "cell_type": "code",
   "execution_count": null,
   "metadata": {},
   "outputs": [],
   "source": [
    "for row in cursor:\n",
    "    if row[1] == 0:\n",
    "        print(row)"
   ]
  },
  {
   "cell_type": "code",
   "execution_count": null,
   "metadata": {},
   "outputs": [],
   "source": [
    "#Once the iterator has been iterated through, it needs to be reset before you can iterate again\n",
    "#Using the reset method\n",
    "cursor.reset()"
   ]
  },
  {
   "cell_type": "code",
   "execution_count": null,
   "metadata": {},
   "outputs": [],
   "source": [
    "#Now we can iterate again!\n",
    "for row in cursor:\n",
    "    if row[1] == 0:\n",
    "        print(row)"
   ]
  },
  {
   "cell_type": "code",
   "execution_count": null,
   "metadata": {},
   "outputs": [],
   "source": [
    "row"
   ]
  },
  {
   "cell_type": "code",
   "execution_count": null,
   "metadata": {},
   "outputs": [],
   "source": [
    "#The cursors are stored in the RAM memory, if you are working with large tables, you may want to delete them after you're done.\n",
    "del row\n",
    "del cursor"
   ]
  },
  {
   "cell_type": "code",
   "execution_count": null,
   "metadata": {},
   "outputs": [],
   "source": [
    "cursor"
   ]
  },
  {
   "cell_type": "markdown",
   "metadata": {},
   "source": [
    "#### Instead of creating an instance of a cursor and having to delete it, we can use \"with\"\n",
    "#### \"with\" will create a temporary cursor and you will not have to delete it. It will exist within the indented block\n"
   ]
  },
  {
   "cell_type": "code",
   "execution_count": null,
   "metadata": {},
   "outputs": [],
   "source": [
    "with arcpy.da.SearchCursor(shp, flds) as cursor:\n",
    "    for row in cursor:\n",
    "        print(type(row), row)"
   ]
  },
  {
   "cell_type": "markdown",
   "metadata": {},
   "source": [
    "#### The update cursor has a list data type, tuples are immutable but lists we can adjust\n",
    "\n",
    "#### Lets update the last row to mixed case using the title string method and the updateRow Cursor method:"
   ]
  },
  {
   "cell_type": "code",
   "execution_count": null,
   "metadata": {},
   "outputs": [],
   "source": [
    "with arcpy.da.UpdateCursor(shp, flds) as cursor:\n",
    "    for row in cursor:\n",
    "        if row[0] == 'IRONWOOD WAY':\n",
    "            row[0] = row[0].title()\n",
    "        \n",
    "        cursor.updateRow(row)"
   ]
  },
  {
   "cell_type": "code",
   "execution_count": null,
   "metadata": {},
   "outputs": [],
   "source": [
    "row"
   ]
  },
  {
   "cell_type": "markdown",
   "metadata": {},
   "source": [
    "#### We can use a search cursor to get all of the unique values within a column:"
   ]
  },
  {
   "cell_type": "code",
   "execution_count": null,
   "metadata": {},
   "outputs": [],
   "source": [
    "#We can use a search cursor to get all of the unique terms within a column:\n",
    "\n",
    "sf_businesses_sjoin = os.path.join(output_folder, 'SF_Businesses_spjoin.shp')\n",
    "\n",
    "nhoods = []\n",
    "with arcpy.da.SearchCursor(sf_businesses_sjoin, 'nhood') as nhood_cursor:\n",
    "    for row in nhood_cursor:\n",
    "        nhoods.append(row[0])\n",
    "\n",
    "nhoods_unique = set(nhoods)"
   ]
  },
  {
   "cell_type": "code",
   "execution_count": null,
   "metadata": {},
   "outputs": [],
   "source": [
    "nhoods_unique"
   ]
  },
  {
   "cell_type": "markdown",
   "metadata": {},
   "source": [
    "#### Doing it in a comprehension!"
   ]
  },
  {
   "cell_type": "code",
   "execution_count": null,
   "metadata": {},
   "outputs": [],
   "source": [
    "unique_values_set = set(row[0] for row in arcpy.da.SearchCursor(sf_businesses_sjoin, \"nhood\"))"
   ]
  },
  {
   "cell_type": "markdown",
   "metadata": {},
   "source": [
    "#### Even better! Comprehension inside a function that we can continue to use whenever we need it!"
   ]
  },
  {
   "cell_type": "code",
   "execution_count": null,
   "metadata": {},
   "outputs": [],
   "source": [
    "def get_unique_values_of_column(fc, column):\n",
    "    return set(row[0] for row in arcpy.da.SearchCursor(fc, column))\n",
    "\n",
    "get_unique_values_of_column(sf_businesses_sjoin, \"nhood\")"
   ]
  },
  {
   "cell_type": "markdown",
   "metadata": {},
   "source": [
    "#### Okay, cool. Search Cursors are good at retrieving information from a feature layer, but more commonly I want to update and or fix the information in a feature layer.\n",
    "#### What's a practical example of using this??"
   ]
  },
  {
   "cell_type": "code",
   "execution_count": null,
   "metadata": {},
   "outputs": [],
   "source": [
    "with arcpy.da.UpdateCursor(sf_businesses_sjoin, [\"neighborho\", \"nhood\"]) as cursor:\n",
    "    for row in cursor:\n",
    "        if row[0] != row[1]: #row[0] = original neighborhood field\n",
    "            row[0] = row[1]  #row[1] = new neighborhood field\n",
    "        cursor.updateRow(row)"
   ]
  },
  {
   "cell_type": "markdown",
   "metadata": {},
   "source": [
    "### In Summary:\n",
    "\n",
    "If you find yourself using selectbyattributes and calculate fields over and over again in your script, \n",
    "you probably should be using update cursors instead!\n",
    "\n",
    "Update cursors can be 10x faster then running a selection and then using the calculate fields tool!"
   ]
  },
  {
   "cell_type": "markdown",
   "metadata": {},
   "source": [
    "# Memory Workspace\n",
    "\n",
    "The memory workspace allows you to create temporary spatial layers that exist in the RAM memory.  \n",
    "This can make scripts run faster and also avoid creating shapefiles/feature classes for every step of a script.  \n",
    "Once the script or Python session ends, the layers will no longer exist.\n",
    "\n",
    "Not all tools will work with the in memory workspace, so you may need to adjust your methods in some cases.  \n",
    "It's also not possible to create folders within the in memory workspace.\n",
    "\n",
    "\"in_memory\" is the temporary workspace for ArcMap, \"memory\" is the new version used in ArcPro.\n",
    "Keep this in mind if you are developing tools people will use with ArcMap.  The \"in_memory\" workspace also doesn't support subtypes or domains.  \n",
    "\n",
    "These temporary workspaces are great for storing intermediary layers, but if you are working with large datasets, \n",
    "you may want to delete them once they are no longer needed to free up space in your RAM.\n",
    "\n",
    "Example of format for creating a temporary buffer feature\n",
    "\n",
    "**ArcPro** - r\"memory\\Buffer\"\n",
    "\n",
    "**ArcMap** - r\"in_memory\\Buffer\"\n"
   ]
  },
  {
   "cell_type": "code",
   "execution_count": null,
   "metadata": {},
   "outputs": [],
   "source": [
    "#Let's use the memory workspace to save a temporary layer in some geoprocessing\n",
    "#We can use the over write output setting to overwrite the temporary layer\n",
    "\n",
    "arcpy.env.overwriteOutput = True\n",
    "\n",
    "locations_of_interest = os.path.join(output_folder, \"Locations_of_Interest_spjoin.shp\")\n",
    "locations_buffer = r\"memory\\locations_buffer\"\n",
    "\n",
    "arcpy.Buffer_analysis(locations_of_interest, locations_buffer, \"1 Mile\")\n",
    "\n",
    "arcpy.CopyFeatures_management(locations_buffer, \"permanent_locations_buffer.shp\")"
   ]
  },
  {
   "cell_type": "code",
   "execution_count": null,
   "metadata": {},
   "outputs": [],
   "source": [
    "#We can delete the temporary layer when we don't need it anymore\n",
    "#Only really needed if you are using large datasets and will continue in your Python session/script\n",
    "arcpy.Delete_management(locations_buffer)"
   ]
  },
  {
   "cell_type": "code",
   "execution_count": null,
   "metadata": {},
   "outputs": [],
   "source": []
  }
 ],
 "metadata": {
  "kernelspec": {
   "display_name": "Python 3",
   "language": "python",
   "name": "python3"
  },
  "language_info": {
   "codemirror_mode": {
    "name": "ipython",
    "version": 3
   },
   "file_extension": ".py",
   "mimetype": "text/x-python",
   "name": "python",
   "nbconvert_exporter": "python",
   "pygments_lexer": "ipython3",
   "version": "3.7.11"
  }
 },
 "nbformat": 4,
 "nbformat_minor": 2
}
