{
 "cells": [
  {
   "cell_type": "code",
   "execution_count": 2,
   "id": "8cbdeb04",
   "metadata": {},
   "outputs": [],
   "source": [
    "x = 3"
   ]
  },
  {
   "cell_type": "code",
   "execution_count": 2,
   "id": "57a94674",
   "metadata": {},
   "outputs": [
    {
     "name": "stdout",
     "output_type": "stream",
     "text": [
      "3\n"
     ]
    }
   ],
   "source": [
    "print(x)"
   ]
  },
  {
   "cell_type": "code",
   "execution_count": 3,
   "id": "7ebbac77",
   "metadata": {},
   "outputs": [],
   "source": [
    "y = 4"
   ]
  },
  {
   "cell_type": "code",
   "execution_count": 4,
   "id": "d2a49250",
   "metadata": {},
   "outputs": [
    {
     "data": {
      "text/plain": [
       "12"
      ]
     },
     "execution_count": 4,
     "metadata": {},
     "output_type": "execute_result"
    }
   ],
   "source": [
    "x * y"
   ]
  },
  {
   "cell_type": "code",
   "execution_count": 5,
   "id": "8c9cdc8e",
   "metadata": {},
   "outputs": [
    {
     "data": {
      "text/plain": [
       "0.75"
      ]
     },
     "execution_count": 5,
     "metadata": {},
     "output_type": "execute_result"
    }
   ],
   "source": [
    "x/y"
   ]
  },
  {
   "cell_type": "code",
   "execution_count": 5,
   "id": "b9c2e999",
   "metadata": {},
   "outputs": [
    {
     "data": {
      "text/plain": [
       "False"
      ]
     },
     "execution_count": 5,
     "metadata": {},
     "output_type": "execute_result"
    }
   ],
   "source": [
    "x > y"
   ]
  },
  {
   "cell_type": "code",
   "execution_count": 6,
   "id": "ab5ad37c",
   "metadata": {},
   "outputs": [
    {
     "data": {
      "text/plain": [
       "True"
      ]
     },
     "execution_count": 6,
     "metadata": {},
     "output_type": "execute_result"
    }
   ],
   "source": [
    "x < y"
   ]
  },
  {
   "cell_type": "code",
   "execution_count": 7,
   "id": "662b3eef",
   "metadata": {},
   "outputs": [
    {
     "data": {
      "text/plain": [
       "False"
      ]
     },
     "execution_count": 7,
     "metadata": {},
     "output_type": "execute_result"
    }
   ],
   "source": [
    "x >= y"
   ]
  },
  {
   "cell_type": "code",
   "execution_count": 8,
   "id": "f492be20",
   "metadata": {},
   "outputs": [
    {
     "data": {
      "text/plain": [
       "True"
      ]
     },
     "execution_count": 8,
     "metadata": {},
     "output_type": "execute_result"
    }
   ],
   "source": [
    "x <= y"
   ]
  },
  {
   "cell_type": "code",
   "execution_count": 9,
   "id": "dd863a56",
   "metadata": {},
   "outputs": [],
   "source": [
    "x = y"
   ]
  },
  {
   "cell_type": "code",
   "execution_count": 10,
   "id": "13d10d72",
   "metadata": {},
   "outputs": [
    {
     "name": "stdout",
     "output_type": "stream",
     "text": [
      "4\n"
     ]
    }
   ],
   "source": [
    "print(x)"
   ]
  },
  {
   "cell_type": "code",
   "execution_count": 11,
   "id": "1fd66ccd",
   "metadata": {},
   "outputs": [
    {
     "data": {
      "text/plain": [
       "True"
      ]
     },
     "execution_count": 11,
     "metadata": {},
     "output_type": "execute_result"
    }
   ],
   "source": [
    "x == y"
   ]
  },
  {
   "cell_type": "code",
   "execution_count": 15,
   "id": "2f4ee21c",
   "metadata": {},
   "outputs": [
    {
     "name": "stdout",
     "output_type": "stream",
     "text": [
      "Meredith\n",
      "Eric\n",
      "Matt\n",
      "Molly\n",
      "Joe\n"
     ]
    }
   ],
   "source": [
    "list_values = ['Meredith', 'Eric', 'Matt', 'Molly', 'Joe']\n",
    "\n",
    "for name in list_values:\n",
    "    print(name)"
   ]
  },
  {
   "cell_type": "code",
   "execution_count": 17,
   "id": "cc7c7cfa",
   "metadata": {},
   "outputs": [
    {
     "name": "stdout",
     "output_type": "stream",
     "text": [
      "The name's not molly!\n",
      "Eric\n",
      "The name's not molly!\n",
      "Molly\n",
      "The name's not molly!\n"
     ]
    }
   ],
   "source": [
    "for name in list_values:\n",
    "    if name == \"Molly\":\n",
    "        print(name)\n",
    "    elif name == \"Eric\":\n",
    "        print(name)\n",
    "    else:\n",
    "        print(\"The name's not molly or eric!\")"
   ]
  },
  {
   "cell_type": "code",
   "execution_count": null,
   "id": "05ef9a4c",
   "metadata": {},
   "outputs": [],
   "source": [
    "for name in name_list:\n",
    "    if name == \"Molly\" or name == \"Eric\":\n",
    "        print(name)\n",
    "    else:\n",
    "        print(\"The name's not molly or eric\")"
   ]
  },
  {
   "cell_type": "code",
   "execution_count": 19,
   "id": "b18de1d6",
   "metadata": {},
   "outputs": [
    {
     "name": "stdout",
     "output_type": "stream",
     "text": [
      "Meredith\n",
      "Matt\n",
      "Molly\n"
     ]
    }
   ],
   "source": [
    "for name in list_values:\n",
    "    if name.startswith('M'):\n",
    "        print(name)"
   ]
  },
  {
   "cell_type": "code",
   "execution_count": 21,
   "id": "9e3991d1",
   "metadata": {},
   "outputs": [
    {
     "name": "stdout",
     "output_type": "stream",
     "text": [
      "['Meredith', 'Matt', 'Molly']\n"
     ]
    }
   ],
   "source": [
    "M_name_list = []\n",
    "\n",
    "for name in list_values:\n",
    "    if name.startswith('M'):\n",
    "        M_name_list.append(name)\n",
    "        \n",
    "print(M_name_list)"
   ]
  },
  {
   "cell_type": "code",
   "execution_count": 22,
   "id": "5c6418dd",
   "metadata": {},
   "outputs": [
    {
     "name": "stdout",
     "output_type": "stream",
     "text": [
      "['Meredith', 'Matt', 'Molly']\n"
     ]
    }
   ],
   "source": [
    "M_name_list = [name for name in list_values if name.startswith('M')]\n",
    "\n",
    "print(M_name_list)"
   ]
  },
  {
   "cell_type": "code",
   "execution_count": 28,
   "id": "8e700391",
   "metadata": {},
   "outputs": [],
   "source": [
    "def get_mnames_from_list(in_name_list):\n",
    "    M_name_list = []\n",
    "\n",
    "    for name in in_name_list:\n",
    "        if name.startswith('M'):\n",
    "            M_name_list.append(name)\n",
    "    return M_name_list"
   ]
  },
  {
   "cell_type": "code",
   "execution_count": 29,
   "id": "64ea68b6",
   "metadata": {},
   "outputs": [],
   "source": [
    "name_list_2 = ['Mia', 'Mason', 'Liam', 'Noah']\n",
    "name_list_3 = ['Mark', 'Bill', 'George']\n",
    "name_list_4 = ['Marcos', 'Frank', 'Dennis']"
   ]
  },
  {
   "cell_type": "code",
   "execution_count": 33,
   "id": "88fc243c",
   "metadata": {},
   "outputs": [
    {
     "data": {
      "text/plain": [
       "['Marcos']"
      ]
     },
     "execution_count": 33,
     "metadata": {},
     "output_type": "execute_result"
    }
   ],
   "source": [
    "get_mnames_from_list(name_list_4)"
   ]
  },
  {
   "cell_type": "code",
   "execution_count": 36,
   "id": "0baf92e7",
   "metadata": {},
   "outputs": [],
   "source": [
    "new_mname_list = get_mnames_from_list(name_list_4)"
   ]
  },
  {
   "cell_type": "code",
   "execution_count": 37,
   "id": "bac4bde3",
   "metadata": {},
   "outputs": [
    {
     "data": {
      "text/plain": [
       "['Marcos']"
      ]
     },
     "execution_count": 37,
     "metadata": {},
     "output_type": "execute_result"
    }
   ],
   "source": [
    "new_mname_list"
   ]
  },
  {
   "cell_type": "code",
   "execution_count": 1,
   "id": "1edf2c95",
   "metadata": {},
   "outputs": [],
   "source": [
    "#Refactoring"
   ]
  },
  {
   "cell_type": "code",
   "execution_count": null,
   "id": "30a1e389",
   "metadata": {},
   "outputs": [],
   "source": [
    "import os\n",
    "import arcpy\n",
    "import zipfile\n",
    "\n",
    "arcpy.env.overwriteOutput = True\n",
    "\n",
    "def create_new_folders_from_list(in_folder_list):\n",
    "    \"\"\"Create new folders with paths from a list\"\"\"\n",
    "    for folder in in_folder_list:\n",
    "        if not os.path.exists(folder):\n",
    "            os.mkdir(folder)\n",
    "\n",
    "example_folder = r\".\\Example_Data\"\n",
    "extracted_folder = r\".\\Example_Data\\Extracted_SHP\"\n",
    "output_folder = r\".\\Example_Data\\Output_Folder\"\n",
    "\n",
    "create_new_folders_from_list([example_folder, extracted_folder, output_folder])\n",
    "\n",
    "zipfile_list = [f for f in os.listdir('.') if f.endswith('.zip')]\n",
    "for zf in zipfile_list:\n",
    "    zfile = zipfile.ZipFile(zf)\n",
    "    zfile.extractall(extracted_folder)\n",
    "\n",
    "arcpy.env.workspace = extracted_folder\n",
    "shp_list = arcpy.ListFeatureClasses(feature_type = \"Point\")\n",
    "\n",
    "for pt_shp in shp_list:\n",
    "    print('Updating', pt_shp)\n",
    "    output_shp = os.path.join(output_folder, pt_shp[:-4] + '_spjoin.shp')\n",
    "    arcpy.analysis.SpatialJoin(pt_shp, 'SF_Neighborhoods.shp', output_shp, match_option=\"COMPLETELY WITHIN\")"
   ]
  },
  {
   "cell_type": "code",
   "execution_count": null,
   "id": "fc66707d",
   "metadata": {},
   "outputs": [],
   "source": [
    "#search cursor where clause\n",
    "with arcpy.da.SearchCursor(shp, flds, where_clause=\"active = 0\") as cursor:\n",
    "    for row in cursor:\n",
    "        print(row)"
   ]
  },
  {
   "cell_type": "code",
   "execution_count": null,
   "id": "63d7cbf1",
   "metadata": {},
   "outputs": [],
   "source": [
    "#Problem 1\n",
    "\n",
    "arcpy.env.workspace = r'.\\Example_Data\\Extracted_SHP'\n",
    "shp_list = arcpy.ListFeatureClasses()\n",
    "\n",
    "for shp in shp_list:\n",
    "    print(f'{shp} has {arcpy.GetCount_management(shp)} records!')"
   ]
  },
  {
   "cell_type": "code",
   "execution_count": null,
   "id": "e3472bde",
   "metadata": {},
   "outputs": [],
   "source": [
    "#Problem 2\n",
    "\n",
    "sf_business_shp = r'.\\Example_Data\\Extracted_SHP\\SF_Businesses.shp'\n",
    "\n",
    "with arcpy.da.SearchCursor(sf_business_shp, \"dba_name\") as cursor:\n",
    "    for row in cursor:\n",
    "        if \"Pizza\" in row[0]:\n",
    "            print(row[0])"
   ]
  },
  {
   "cell_type": "code",
   "execution_count": null,
   "id": "45f11fea",
   "metadata": {},
   "outputs": [],
   "source": [
    "#Problem 3\n",
    "\n",
    "sf_business_shp = r'.\\Example_Data\\Extracted_SHP\\SF_Businesses.shp'\n",
    "\n",
    "arcpy.AddField_management(sf_business_shp, \"Food_Type\", \"TEXT\")\n",
    "\n",
    "fields = [\"dba_name\", \"Food_Type\"]\n",
    "categories = [\"Pizza\", \"Ice Cream\", \"Coffee\", \"Thai\", \"Mexican\"]\n",
    "\n",
    "with arcpy.da.UpdateCursor(sf_business_shp, fields) as cursor:\n",
    "    for row in cursor:\n",
    "        for cat in categories:\n",
    "            if cat in row[0]:\n",
    "                row[1] = cat\n",
    "        cursor.updateRow(row)"
   ]
  },
  {
   "cell_type": "code",
   "execution_count": null,
   "id": "cdc250e5",
   "metadata": {},
   "outputs": [],
   "source": [
    "#Problem 4\n",
    "\n",
    "arcpy.env.workspace = r'.\\Example_Data\\Extracted_SHP'\n",
    "\n",
    "output_folder_practprob2 = r\".\\Example_Data\\output_folder_practprob2\"\n",
    "if not os.path.exists(output_folder_practprob2):\n",
    "    os.mkdir(output_folder_practprob2)\n",
    "\n",
    "locations_sp = r\"memory\\locations_sp\"\n",
    "arcpy.analysis.SpatialJoin('Locations_of_Interest.shp', 'SF_Neighborhoods.shp', locations_sp, match_option=\"COMPLETELY WITHIN\")\n",
    "\n",
    "locations_sp_buffer = r\"memory\\locations_sp_buffer\"\n",
    "arcpy.analysis.Buffer(locations_sp, locations_sp_buffer, \"1 Mile\")\n",
    "\n",
    "shp_list = arcpy.ListFeatureClasses()\n",
    "for shp in shp_list:\n",
    "    in_features = [locations_sp_buffer, shp]\n",
    "    out_features = os.path.join(output_folder_practprob2, f'{shp[:-4]}_intersect.shp')\n",
    "    arcpy.analysis.Intersect(in_features, out_features)"
   ]
  }
 ],
 "metadata": {
  "kernelspec": {
   "display_name": "Python 3",
   "language": "python",
   "name": "python3"
  },
  "language_info": {
   "codemirror_mode": {
    "name": "ipython",
    "version": 3
   },
   "file_extension": ".py",
   "mimetype": "text/x-python",
   "name": "python",
   "nbconvert_exporter": "python",
   "pygments_lexer": "ipython3",
   "version": "3.7.11"
  }
 },
 "nbformat": 4,
 "nbformat_minor": 5
}
