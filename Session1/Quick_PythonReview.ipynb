{
 "cells": [
  {
   "cell_type": "code",
   "execution_count": 1,
   "id": "7464022f",
   "metadata": {},
   "outputs": [],
   "source": [
    "x = 3"
   ]
  },
  {
   "cell_type": "code",
   "execution_count": 2,
   "id": "52830b40",
   "metadata": {},
   "outputs": [
    {
     "name": "stdout",
     "output_type": "stream",
     "text": [
      "3\n"
     ]
    }
   ],
   "source": [
    "print(x)"
   ]
  },
  {
   "cell_type": "code",
   "execution_count": 3,
   "id": "69db05d0",
   "metadata": {},
   "outputs": [],
   "source": [
    "y = 4"
   ]
  },
  {
   "cell_type": "code",
   "execution_count": 4,
   "id": "d118502a",
   "metadata": {},
   "outputs": [
    {
     "data": {
      "text/plain": [
       "12"
      ]
     },
     "execution_count": 4,
     "metadata": {},
     "output_type": "execute_result"
    }
   ],
   "source": [
    "x * y"
   ]
  },
  {
   "cell_type": "code",
   "execution_count": 5,
   "id": "cd3acdfb",
   "metadata": {},
   "outputs": [
    {
     "data": {
      "text/plain": [
       "False"
      ]
     },
     "execution_count": 5,
     "metadata": {},
     "output_type": "execute_result"
    }
   ],
   "source": [
    "x > y"
   ]
  },
  {
   "cell_type": "code",
   "execution_count": 6,
   "id": "066c91b3",
   "metadata": {},
   "outputs": [
    {
     "data": {
      "text/plain": [
       "True"
      ]
     },
     "execution_count": 6,
     "metadata": {},
     "output_type": "execute_result"
    }
   ],
   "source": [
    "x < y"
   ]
  },
  {
   "cell_type": "code",
   "execution_count": 7,
   "id": "0f5eb0b2",
   "metadata": {},
   "outputs": [
    {
     "data": {
      "text/plain": [
       "False"
      ]
     },
     "execution_count": 7,
     "metadata": {},
     "output_type": "execute_result"
    }
   ],
   "source": [
    "x >= y"
   ]
  },
  {
   "cell_type": "code",
   "execution_count": 8,
   "id": "88f72524",
   "metadata": {},
   "outputs": [
    {
     "data": {
      "text/plain": [
       "True"
      ]
     },
     "execution_count": 8,
     "metadata": {},
     "output_type": "execute_result"
    }
   ],
   "source": [
    "x <= y"
   ]
  },
  {
   "cell_type": "code",
   "execution_count": 9,
   "id": "7e8e2d77",
   "metadata": {},
   "outputs": [],
   "source": [
    "x = y"
   ]
  },
  {
   "cell_type": "code",
   "execution_count": 10,
   "id": "90ff663d",
   "metadata": {},
   "outputs": [
    {
     "name": "stdout",
     "output_type": "stream",
     "text": [
      "4\n"
     ]
    }
   ],
   "source": [
    "print(x)"
   ]
  },
  {
   "cell_type": "code",
   "execution_count": 11,
   "id": "1480a87b",
   "metadata": {},
   "outputs": [
    {
     "data": {
      "text/plain": [
       "True"
      ]
     },
     "execution_count": 11,
     "metadata": {},
     "output_type": "execute_result"
    }
   ],
   "source": [
    "x == y"
   ]
  },
  {
   "cell_type": "code",
   "execution_count": 15,
   "id": "b9846b7e",
   "metadata": {},
   "outputs": [
    {
     "name": "stdout",
     "output_type": "stream",
     "text": [
      "Meredith\n",
      "Eric\n",
      "Matt\n",
      "Molly\n",
      "Joe\n"
     ]
    }
   ],
   "source": [
    "list_values = ['Meredith', 'Eric', 'Matt', 'Molly', 'Joe']\n",
    "\n",
    "for name in list_values:\n",
    "    print(name)"
   ]
  },
  {
   "cell_type": "code",
   "execution_count": 17,
   "id": "584a7d21",
   "metadata": {},
   "outputs": [
    {
     "name": "stdout",
     "output_type": "stream",
     "text": [
      "The name's not molly!\n",
      "Eric\n",
      "The name's not molly!\n",
      "Molly\n",
      "The name's not molly!\n"
     ]
    }
   ],
   "source": [
    "for name in list_values:\n",
    "    if name == \"Molly\":\n",
    "        print(name)\n",
    "    elif name == \"Eric\":\n",
    "        print(name)\n",
    "    else:\n",
    "        print(\"The name's not molly!\")"
   ]
  },
  {
   "cell_type": "code",
   "execution_count": 19,
   "id": "0d41addd",
   "metadata": {},
   "outputs": [
    {
     "name": "stdout",
     "output_type": "stream",
     "text": [
      "Meredith\n",
      "Matt\n",
      "Molly\n"
     ]
    }
   ],
   "source": [
    "for name in list_values:\n",
    "    if name.startswith('M'):\n",
    "        print(name)"
   ]
  },
  {
   "cell_type": "code",
   "execution_count": 21,
   "id": "508f9bf5",
   "metadata": {},
   "outputs": [
    {
     "name": "stdout",
     "output_type": "stream",
     "text": [
      "['Meredith', 'Matt', 'Molly']\n"
     ]
    }
   ],
   "source": [
    "M_name_list = []\n",
    "\n",
    "for name in list_values:\n",
    "    if name.startswith('M'):\n",
    "        M_name_list.append(name)\n",
    "        \n",
    "print(M_name_list)"
   ]
  },
  {
   "cell_type": "code",
   "execution_count": 22,
   "id": "1970d89d",
   "metadata": {},
   "outputs": [
    {
     "name": "stdout",
     "output_type": "stream",
     "text": [
      "['Meredith', 'Matt', 'Molly']\n"
     ]
    }
   ],
   "source": [
    "M_name_list = [name for name in list_values if name.startswith('M')]\n",
    "\n",
    "print(M_name_list)"
   ]
  },
  {
   "cell_type": "code",
   "execution_count": 28,
   "id": "d41b7d30",
   "metadata": {},
   "outputs": [],
   "source": [
    "def get_mnames_from_list(in_name_list):\n",
    "    M_name_list = []\n",
    "\n",
    "    for name in in_name_list:\n",
    "        if name.startswith('M'):\n",
    "            M_name_list.append(name)\n",
    "    return M_name_list"
   ]
  },
  {
   "cell_type": "code",
   "execution_count": 29,
   "id": "9bede4fe",
   "metadata": {},
   "outputs": [],
   "source": [
    "name_list_2 = ['Mia', 'Mason', 'Liam', 'Noah']\n",
    "name_list_3 = ['Mark', 'Bill', 'George']\n",
    "name_list_4 = ['Marcos', 'Frank', 'Dennis']"
   ]
  },
  {
   "cell_type": "code",
   "execution_count": 33,
   "id": "0ec82fe1",
   "metadata": {},
   "outputs": [
    {
     "data": {
      "text/plain": [
       "['Marcos']"
      ]
     },
     "execution_count": 33,
     "metadata": {},
     "output_type": "execute_result"
    }
   ],
   "source": [
    "get_mnames_from_list(name_list_4)"
   ]
  },
  {
   "cell_type": "code",
   "execution_count": 36,
   "id": "e73cabaf",
   "metadata": {},
   "outputs": [],
   "source": [
    "new_mname_list = get_mnames_from_list(name_list_4)"
   ]
  },
  {
   "cell_type": "code",
   "execution_count": 37,
   "id": "aa367e59",
   "metadata": {},
   "outputs": [
    {
     "data": {
      "text/plain": [
       "['Marcos']"
      ]
     },
     "execution_count": 37,
     "metadata": {},
     "output_type": "execute_result"
    }
   ],
   "source": [
    "new_mname_list"
   ]
  },
  {
   "cell_type": "code",
   "execution_count": null,
   "id": "76213cc4",
   "metadata": {},
   "outputs": [],
   "source": []
  }
 ],
 "metadata": {
  "kernelspec": {
   "display_name": "Python 3",
   "language": "python",
   "name": "python3"
  },
  "language_info": {
   "codemirror_mode": {
    "name": "ipython",
    "version": 3
   },
   "file_extension": ".py",
   "mimetype": "text/x-python",
   "name": "python",
   "nbconvert_exporter": "python",
   "pygments_lexer": "ipython3",
   "version": "3.7.11"
  }
 },
 "nbformat": 4,
 "nbformat_minor": 5
}
