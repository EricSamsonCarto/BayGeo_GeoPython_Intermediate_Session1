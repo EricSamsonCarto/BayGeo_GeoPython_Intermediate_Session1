{
 "cells": [
  {
   "cell_type": "markdown",
   "metadata": {},
   "source": [
    "# In-Session Work\n",
    "\n",
    "Let's use this notebook to work through some common issues and write our own code."
   ]
  },
  {
   "cell_type": "markdown",
   "metadata": {},
   "source": [
    "## Geoprocessing Automation"
   ]
  },
  {
   "cell_type": "markdown",
   "metadata": {},
   "source": [
    "### Problem 1\n",
    "We want to list all the shapefiles in a folder.  Printing the name of each shapefile would be sufficient in this case.\n",
    "\n",
    "**Useful Links**\n",
    "- [arcpy.env.workspace](https://pro.arcgis.com/en/pro-app/latest/tool-reference/environment-settings/current-workspace.htm)\n",
    "- [arcpy.ListFeatureClasses()](https://pro.arcgis.com/en/pro-app/latest/arcpy/functions/listfeatureclasses.htm)\n",
    "\n",
    "**Hint** - this is potentially useful.  When you're working in Python, `\".\"` refers to the folder you're running Python in.  In this case (and in many) it's the folder that the script exists in.\n",
    "\n",
    "**Bonus** - try to use [arcpy.GetCount_management()](https://pro.arcgis.com/en/pro-app/latest/tool-reference/data-management/get-count.htm) to get the count of features in each shapefile!"
   ]
  },
  {
   "cell_type": "code",
   "execution_count": null,
   "metadata": {},
   "outputs": [],
   "source": [
    "import os\n",
    "import arcpy"
   ]
  },
  {
   "cell_type": "code",
   "execution_count": null,
   "metadata": {},
   "outputs": [],
   "source": [
    "# Review Problem 1\n",
    "# Write some code to get a list of shapefiles in our extracted_SHP folder\n",
    "# Loop through the list and print the shapefile name\n",
    "\n"
   ]
  },
  {
   "cell_type": "markdown",
   "metadata": {
    "heading_collapsed": true
   },
   "source": [
    "## Cursors"
   ]
  },
  {
   "cell_type": "markdown",
   "metadata": {
    "hidden": true
   },
   "source": [
    "### Problem 3\n",
    "Let's use a cursor to iterate through the SF_Business shapefile and print the business name for the \"Pizza\" restaurants (The column is called: dba_name).\n",
    "\n",
    "**Useful Links**\n",
    "- [arcpy.da.SearchCursor()](https://pro.arcgis.com/en/pro-app/arcpy/data-access/searchcursor-class.htm)"
   ]
  },
  {
   "cell_type": "code",
   "execution_count": null,
   "metadata": {
    "hidden": true
   },
   "outputs": [],
   "source": [
    "\n",
    "# Write some code to create a search cursor to iterate through the SF_Business shapefile and print all the Pizza Restaurants\n",
    "# dba_name is the business name attribute field\n"
   ]
  },
  {
   "cell_type": "markdown",
   "metadata": {
    "heading_collapsed": true,
    "hidden": true
   },
   "source": [
    "### Problem 4\n",
    "\n",
    "What if we wanted to categorize the different restaurants into a new field?<br>\n",
    "That way we could quickly select the Pizza restaurants in the future.<br>\n",
    "Building off of the previous question, create a new field called \"Food_Type\" that holds the following categories:<br>\n",
    "\"Pizza\", \"Ice Cream\", \"Coffee\", \"Thai\", \"Mexican\"<br>\n",
    "\n",
    "**Useful Links**\n",
    "- [arcpy.da.UpdateCursor()](https://pro.arcgis.com/en/pro-app/latest/arcpy/data-access/updatecursor-class.htm)\n",
    "- [AddField_management()](https://pro.arcgis.com/en/pro-app/latest/tool-reference/data-management/add-field.htm)"
   ]
  },
  {
   "cell_type": "code",
   "execution_count": null,
   "metadata": {
    "hidden": true
   },
   "outputs": [],
   "source": []
  },
  {
   "cell_type": "markdown",
   "metadata": {},
   "source": [
    "## Memory Workspace"
   ]
  },
  {
   "cell_type": "markdown",
   "metadata": {},
   "source": [
    "### Problem 4\n",
    "We want to do some geoprocessing with the shapefiles that we've gathered.  \n",
    "We'd like to gather only the features within a mile of our points of interest and attribute them with the neighborhood that they exist in.  \n",
    "\n",
    "Our order of operations will look something like:\n",
    "- Spatial Join our POI features with our neighborhoods\n",
    "- Create a 1 mile buffer of each POI feature\n",
    "- Intersect each of our shapefiles with the buffered POI shapefile\n",
    "\n",
    "**This is a good opportunity to use memory**\n",
    "\n",
    "**Useful Links**\n",
    "- [arcpy.analysis.SpatialJoin()](https://pro.arcgis.com/en/pro-app/latest/tool-reference/analysis/spatial-join.htm)\n",
    "- [arcpy.analysis.Intersect()](https://pro.arcgis.com/en/pro-app/latest/tool-reference/analysis/intersect.htm)\n",
    "\n"
   ]
  },
  {
   "cell_type": "code",
   "execution_count": null,
   "metadata": {},
   "outputs": [],
   "source": [
    "# Review Problem 4\n",
    "# We want to use the Locations_of_Interest.shp to create shapefiles of the nearby features in the extracted_SHP folder\n",
    "\n",
    "# Your code should:\n",
    "# Create a new folder for the output of the spatial operations\n",
    "# Spatially join the neighborhood to the Locations_of_Interest.shp points\n",
    "# Buffer the spatially joined points by 1 mile \n",
    "# Intersect each extracted_SHP with that buffer\n",
    "# Save the output to the new folder\n",
    "\n"
   ]
  }
 ],
 "metadata": {
  "kernelspec": {
   "display_name": "Python 3",
   "language": "python",
   "name": "python3"
  },
  "language_info": {
   "codemirror_mode": {
    "name": "ipython",
    "version": 3
   },
   "file_extension": ".py",
   "mimetype": "text/x-python",
   "name": "python",
   "nbconvert_exporter": "python",
   "pygments_lexer": "ipython3",
   "version": "3.7.11"
  }
 },
 "nbformat": 4,
 "nbformat_minor": 2
}
