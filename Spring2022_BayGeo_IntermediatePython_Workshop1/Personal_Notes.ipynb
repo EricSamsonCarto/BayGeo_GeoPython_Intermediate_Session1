{
 "cells": [
  {
   "cell_type": "code",
   "execution_count": 1,
   "id": "fa05d2e4",
   "metadata": {},
   "outputs": [],
   "source": [
    "x = 3"
   ]
  },
  {
   "cell_type": "code",
   "execution_count": 2,
   "id": "15a46c42",
   "metadata": {},
   "outputs": [
    {
     "name": "stdout",
     "output_type": "stream",
     "text": [
      "3\n"
     ]
    }
   ],
   "source": [
    "print(x)"
   ]
  },
  {
   "cell_type": "code",
   "execution_count": 3,
   "id": "e2ca74dd",
   "metadata": {},
   "outputs": [],
   "source": [
    "y = 4"
   ]
  },
  {
   "cell_type": "code",
   "execution_count": 4,
   "id": "ef3b310c",
   "metadata": {},
   "outputs": [
    {
     "data": {
      "text/plain": [
       "12"
      ]
     },
     "execution_count": 4,
     "metadata": {},
     "output_type": "execute_result"
    }
   ],
   "source": [
    "x * y"
   ]
  },
  {
   "cell_type": "code",
   "execution_count": 5,
   "id": "f6f3a22a",
   "metadata": {},
   "outputs": [
    {
     "data": {
      "text/plain": [
       "False"
      ]
     },
     "execution_count": 5,
     "metadata": {},
     "output_type": "execute_result"
    }
   ],
   "source": [
    "x > y"
   ]
  },
  {
   "cell_type": "code",
   "execution_count": 6,
   "id": "84873732",
   "metadata": {},
   "outputs": [
    {
     "data": {
      "text/plain": [
       "True"
      ]
     },
     "execution_count": 6,
     "metadata": {},
     "output_type": "execute_result"
    }
   ],
   "source": [
    "x < y"
   ]
  },
  {
   "cell_type": "code",
   "execution_count": 7,
   "id": "bbebf625",
   "metadata": {},
   "outputs": [
    {
     "data": {
      "text/plain": [
       "False"
      ]
     },
     "execution_count": 7,
     "metadata": {},
     "output_type": "execute_result"
    }
   ],
   "source": [
    "x >= y"
   ]
  },
  {
   "cell_type": "code",
   "execution_count": 8,
   "id": "e9672748",
   "metadata": {},
   "outputs": [
    {
     "data": {
      "text/plain": [
       "True"
      ]
     },
     "execution_count": 8,
     "metadata": {},
     "output_type": "execute_result"
    }
   ],
   "source": [
    "x <= y"
   ]
  },
  {
   "cell_type": "code",
   "execution_count": 9,
   "id": "b21d44be",
   "metadata": {},
   "outputs": [],
   "source": [
    "x = y"
   ]
  },
  {
   "cell_type": "code",
   "execution_count": 10,
   "id": "05ea8842",
   "metadata": {},
   "outputs": [
    {
     "name": "stdout",
     "output_type": "stream",
     "text": [
      "4\n"
     ]
    }
   ],
   "source": [
    "print(x)"
   ]
  },
  {
   "cell_type": "code",
   "execution_count": 11,
   "id": "eec97fa8",
   "metadata": {},
   "outputs": [
    {
     "data": {
      "text/plain": [
       "True"
      ]
     },
     "execution_count": 11,
     "metadata": {},
     "output_type": "execute_result"
    }
   ],
   "source": [
    "x == y"
   ]
  },
  {
   "cell_type": "code",
   "execution_count": 15,
   "id": "1f0f290f",
   "metadata": {},
   "outputs": [
    {
     "name": "stdout",
     "output_type": "stream",
     "text": [
      "Meredith\n",
      "Eric\n",
      "Matt\n",
      "Molly\n",
      "Joe\n"
     ]
    }
   ],
   "source": [
    "list_values = ['Meredith', 'Eric', 'Matt', 'Molly', 'Joe']\n",
    "\n",
    "for name in list_values:\n",
    "    print(name)"
   ]
  },
  {
   "cell_type": "code",
   "execution_count": 17,
   "id": "f3963abd",
   "metadata": {},
   "outputs": [
    {
     "name": "stdout",
     "output_type": "stream",
     "text": [
      "The name's not molly!\n",
      "Eric\n",
      "The name's not molly!\n",
      "Molly\n",
      "The name's not molly!\n"
     ]
    }
   ],
   "source": [
    "for name in list_values:\n",
    "    if name == \"Molly\":\n",
    "        print(name)\n",
    "    elif name == \"Eric\":\n",
    "        print(name)\n",
    "    else:\n",
    "        print(\"The name's not molly!\")"
   ]
  },
  {
   "cell_type": "code",
   "execution_count": 19,
   "id": "47ba52ea",
   "metadata": {},
   "outputs": [
    {
     "name": "stdout",
     "output_type": "stream",
     "text": [
      "Meredith\n",
      "Matt\n",
      "Molly\n"
     ]
    }
   ],
   "source": [
    "for name in list_values:\n",
    "    if name.startswith('M'):\n",
    "        print(name)"
   ]
  },
  {
   "cell_type": "code",
   "execution_count": 21,
   "id": "d22fadf7",
   "metadata": {},
   "outputs": [
    {
     "name": "stdout",
     "output_type": "stream",
     "text": [
      "['Meredith', 'Matt', 'Molly']\n"
     ]
    }
   ],
   "source": [
    "M_name_list = []\n",
    "\n",
    "for name in list_values:\n",
    "    if name.startswith('M'):\n",
    "        M_name_list.append(name)\n",
    "        \n",
    "print(M_name_list)"
   ]
  },
  {
   "cell_type": "code",
   "execution_count": 22,
   "id": "935d2204",
   "metadata": {},
   "outputs": [
    {
     "name": "stdout",
     "output_type": "stream",
     "text": [
      "['Meredith', 'Matt', 'Molly']\n"
     ]
    }
   ],
   "source": [
    "M_name_list = [name for name in list_values if name.startswith('M')]\n",
    "\n",
    "print(M_name_list)"
   ]
  },
  {
   "cell_type": "code",
   "execution_count": 28,
   "id": "22df6fd0",
   "metadata": {},
   "outputs": [],
   "source": [
    "def get_mnames_from_list(in_name_list):\n",
    "    M_name_list = []\n",
    "\n",
    "    for name in in_name_list:\n",
    "        if name.startswith('M'):\n",
    "            M_name_list.append(name)\n",
    "    return M_name_list"
   ]
  },
  {
   "cell_type": "code",
   "execution_count": 29,
   "id": "1c2a047f",
   "metadata": {},
   "outputs": [],
   "source": [
    "name_list_2 = ['Mia', 'Mason', 'Liam', 'Noah']\n",
    "name_list_3 = ['Mark', 'Bill', 'George']\n",
    "name_list_4 = ['Marcos', 'Frank', 'Dennis']"
   ]
  },
  {
   "cell_type": "code",
   "execution_count": 33,
   "id": "afaf540b",
   "metadata": {},
   "outputs": [
    {
     "data": {
      "text/plain": [
       "['Marcos']"
      ]
     },
     "execution_count": 33,
     "metadata": {},
     "output_type": "execute_result"
    }
   ],
   "source": [
    "get_mnames_from_list(name_list_4)"
   ]
  },
  {
   "cell_type": "code",
   "execution_count": 36,
   "id": "835857b8",
   "metadata": {},
   "outputs": [],
   "source": [
    "new_mname_list = get_mnames_from_list(name_list_4)"
   ]
  },
  {
   "cell_type": "code",
   "execution_count": 37,
   "id": "8963e1d0",
   "metadata": {},
   "outputs": [
    {
     "data": {
      "text/plain": [
       "['Marcos']"
      ]
     },
     "execution_count": 37,
     "metadata": {},
     "output_type": "execute_result"
    }
   ],
   "source": [
    "new_mname_list"
   ]
  },
  {
   "cell_type": "code",
   "execution_count": 1,
   "id": "417a0dba",
   "metadata": {},
   "outputs": [],
   "source": [
    "#Refactoring"
   ]
  },
  {
   "cell_type": "code",
   "execution_count": null,
   "id": "261ab611",
   "metadata": {},
   "outputs": [],
   "source": [
    "import os\n",
    "import arcpy\n",
    "import zipfile\n",
    "\n",
    "arcpy.env.overwriteOutput = True\n",
    "\n",
    "def create_new_folders_from_list(in_folder_list):\n",
    "    \"\"\"Create new folders with paths from a list\"\"\"\n",
    "    for folder in in_folder_list:\n",
    "        if not os.path.exists(folder):\n",
    "            os.mkdir(folder)\n",
    "\n",
    "example_folder = r\".\\Example_Data\"\n",
    "extracted_folder = r\".\\Example_Data\\Extracted_SHP\"\n",
    "output_folder = r\".\\Example_Data\\Output_Folder\"\n",
    "\n",
    "create_new_folders_from_list([example_folder, extracted_folder, output_folder])\n",
    "\n",
    "zipfile_list = [f for f in os.listdir('.') if f.endswith('.zip')]\n",
    "for zf in zipfile_list:\n",
    "    zfile = zipfile.ZipFile(zf)\n",
    "    zfile.extractall(extracted_folder)\n",
    "\n",
    "arcpy.env.workspace = extracted_folder\n",
    "shp_list = arcpy.ListFeatureClasses(feature_type = \"Point\")\n",
    "\n",
    "for pt_shp in shp_list:\n",
    "    print('Updating', pt_shp)\n",
    "    output_shp = os.path.join(output_folder, pt_shp[:-4] + '_spjoin.shp')\n",
    "    arcpy.analysis.SpatialJoin(pt_shp, 'SF_Neighborhoods.shp', output_shp, match_option=\"COMPLETELY WITHIN\")"
   ]
  },
  {
   "cell_type": "code",
   "execution_count": null,
   "id": "46829484",
   "metadata": {},
   "outputs": [],
   "source": [
    "#Problem 1\n",
    "\n",
    "arcpy.env.workspace = r'.\\Example_Data\\Extracted_SHP'\n",
    "shp_list = arcpy.ListFeatureClasses()\n",
    "\n",
    "for shp in shp_list:\n",
    "    print(f'{shp} has {arcpy.GetCount_management(shp)} records!')"
   ]
  },
  {
   "cell_type": "code",
   "execution_count": null,
   "id": "d95c5250",
   "metadata": {},
   "outputs": [],
   "source": [
    "#Problem 2\n",
    "\n",
    "sf_business_shp = r'.\\Example_Data\\Extracted_SHP\\SF_Businesses.shp'\n",
    "\n",
    "with arcpy.da.SearchCursor(sf_business_shp, \"dba_name\") as cursor:\n",
    "    for row in cursor:\n",
    "        if \"Pizza\" in row[0]:\n",
    "            print(row[0])"
   ]
  },
  {
   "cell_type": "code",
   "execution_count": null,
   "id": "8de4e0c5",
   "metadata": {},
   "outputs": [],
   "source": [
    "#Problem 3\n",
    "\n",
    "sf_business_shp = r'.\\Example_Data\\Extracted_SHP\\SF_Businesses.shp'\n",
    "\n",
    "arcpy.AddField_management(sf_business_shp, \"Food_Type\", \"TEXT\")\n",
    "\n",
    "fields = [\"dba_name\", \"Food_Type\"]\n",
    "categories = [\"Pizza\", \"Ice Cream\", \"Coffee\", \"Thai\", \"Mexican\"]\n",
    "\n",
    "with arcpy.da.UpdateCursor(sf_business_shp, fields) as cursor:\n",
    "    for row in cursor:\n",
    "        for cat in categories:\n",
    "            if cat in row[0]:\n",
    "                row[1] = cat\n",
    "        cursor.updateRow(row)"
   ]
  },
  {
   "cell_type": "code",
   "execution_count": null,
   "id": "8d202d03",
   "metadata": {},
   "outputs": [],
   "source": [
    "#Problem 4\n",
    "\n",
    "arcpy.env.workspace = r'.\\Example_Data\\Extracted_SHP'\n",
    "\n",
    "output_folder_practprob2 = r\".\\Example_Data\\output_folder_practprob2\"\n",
    "if not os.path.exists(output_folder_practprob2):\n",
    "    os.mkdir(output_folder_practprob2)\n",
    "\n",
    "locations_sp = r\"memory\\locations_sp\"\n",
    "arcpy.analysis.SpatialJoin('Locations_of_Interest.shp', 'SF_Neighborhoods.shp', locations_sp, match_option=\"COMPLETELY WITHIN\")\n",
    "\n",
    "locations_sp_buffer = r\"memory\\locations_sp_buffer\"\n",
    "arcpy.analysis.Buffer(locations_sp, locations_sp_buffer, \"1 Mile\")\n",
    "\n",
    "shp_list = arcpy.ListFeatureClasses()\n",
    "for shp in shp_list:\n",
    "    in_features = [locations_sp_buffer, shp]\n",
    "    out_features = os.path.join(output_folder_practprob2, f'{shp[:-4]}_intersect.shp')\n",
    "    arcpy.analysis.Intersect(in_features, out_features)"
   ]
  }
 ],
 "metadata": {
  "kernelspec": {
   "display_name": "Python 3",
   "language": "python",
   "name": "python3"
  },
  "language_info": {
   "codemirror_mode": {
    "name": "ipython",
    "version": 3
   },
   "file_extension": ".py",
   "mimetype": "text/x-python",
   "name": "python",
   "nbconvert_exporter": "python",
   "pygments_lexer": "ipython3",
   "version": "3.7.11"
  }
 },
 "nbformat": 4,
 "nbformat_minor": 5
}
